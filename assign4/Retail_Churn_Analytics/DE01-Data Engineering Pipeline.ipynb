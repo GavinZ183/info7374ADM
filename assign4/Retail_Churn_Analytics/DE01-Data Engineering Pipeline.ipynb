{
 "cells": [
  {
   "cell_type": "markdown",
   "id": "cd94d908",
   "metadata": {},
   "source": [
    "## Customer, Order, Communications History Data Sets - Data Engineering"
   ]
  },
  {
   "cell_type": "markdown",
   "id": "f88b3d60",
   "metadata": {},
   "source": [
    "We will be working with three tables that contains Customer data, Communications data and Order data for a Retail Store. These dataset can be used to understand the consumer behaviour to predict churn, in this example.\n",
    "\n",
    "These datasets were generated for this demo using a Kaggle dataset below.\n",
    "\n",
    "Reference: https://www.kaggle.com/uttamp/store-data"
   ]
  },
  {
   "cell_type": "code",
   "execution_count": 1,
   "id": "a17fa74f",
   "metadata": {},
   "outputs": [],
   "source": [
    "from snowflake.snowpark import Session, Window\n",
    "from snowflake.snowpark import functions as F\n",
    "from snowflake.snowpark.types import *\n",
    "\n",
    "import preprocessing as pp\n",
    "from snowflake.snowpark.functions import sproc, col, min, max, avg\n",
    "import snowflake.snowpark\n",
    "import json"
   ]
  },
  {
   "cell_type": "markdown",
   "id": "d1029142",
   "metadata": {},
   "source": [
    "### 1. Create a Snowpark Session"
   ]
  },
  {
   "cell_type": "markdown",
   "id": "640a92a5",
   "metadata": {},
   "source": [
    "First, we will be setting our parameters for stage name and source file name. Then we will initialize a Snowpark session reading the configuration parameters from creds.json."
   ]
  },
  {
   "cell_type": "code",
   "execution_count": 2,
   "id": "7c6517e0",
   "metadata": {},
   "outputs": [
    {
     "name": "stdout",
     "output_type": "stream",
     "text": [
      "[Row(CURRENT_WAREHOUSE()='BI_MEDIUM_WH', CURRENT_DATABASE()='SUMMIT_DB', CURRENT_SCHEMA()='CHURN')]\n"
     ]
    }
   ],
   "source": [
    "with open('creds.json') as f:\n",
    "        data = json.load(f)\n",
    "        connection_parameters = {\n",
    "          'account': data['account'],\n",
    "          'user': data['user'],\n",
    "          'password': data['password'], #getpass.getpass(),\n",
    "          'schema': data['schema'],\n",
    "          'database': data['database'],\n",
    "          'warehouse': data['warehouse']}\n",
    "session = Session.builder.configs(connection_parameters).create()\n",
    "print(session.sql('select current_warehouse(), current_database(), current_schema()').collect())"
   ]
  },
  {
   "cell_type": "markdown",
   "id": "a636841d",
   "metadata": {},
   "source": [
    "# Let's look the 3 tables we will be working with:"
   ]
  },
  {
   "cell_type": "markdown",
   "id": "aa8b14bb",
   "metadata": {},
   "source": [
    "### Customer Table"
   ]
  },
  {
   "cell_type": "markdown",
   "id": "3bff0c3f",
   "metadata": {},
   "source": [
    "![Original Data Frame](images/customer.png)"
   ]
  },
  {
   "cell_type": "markdown",
   "id": "2fdedf28",
   "metadata": {},
   "source": [
    "### Communication History Table"
   ]
  },
  {
   "cell_type": "markdown",
   "id": "88362e8d",
   "metadata": {},
   "source": [
    "![Original Data Frame](images/comm.png)"
   ]
  },
  {
   "cell_type": "markdown",
   "id": "022cf876",
   "metadata": {},
   "source": [
    "### Order Table"
   ]
  },
  {
   "cell_type": "markdown",
   "id": "ea651b1e",
   "metadata": {},
   "source": [
    "![Original Data Frame](images/order.png)"
   ]
  },
  {
   "cell_type": "code",
   "execution_count": 3,
   "id": "5636d498",
   "metadata": {},
   "outputs": [
    {
     "data": {
      "text/html": [
       "<div>\n",
       "<style scoped>\n",
       "    .dataframe tbody tr th:only-of-type {\n",
       "        vertical-align: middle;\n",
       "    }\n",
       "\n",
       "    .dataframe tbody tr th {\n",
       "        vertical-align: top;\n",
       "    }\n",
       "\n",
       "    .dataframe thead th {\n",
       "        text-align: right;\n",
       "    }\n",
       "</style>\n",
       "<table border=\"1\" class=\"dataframe\">\n",
       "  <thead>\n",
       "    <tr style=\"text-align: right;\">\n",
       "      <th></th>\n",
       "      <th>VALUE</th>\n",
       "      <th>CUSTOMER_ID</th>\n",
       "      <th>CREATED_DT</th>\n",
       "      <th>CITY</th>\n",
       "      <th>STATE</th>\n",
       "      <th>FAV_DELIVERY_DAY</th>\n",
       "      <th>REFILL</th>\n",
       "      <th>DOOR_DELIVERY</th>\n",
       "      <th>PAPERLESS</th>\n",
       "      <th>CUSTOMER_NAME</th>\n",
       "      <th>RETAINED</th>\n",
       "    </tr>\n",
       "  </thead>\n",
       "  <tbody>\n",
       "  </tbody>\n",
       "</table>\n",
       "</div>"
      ],
      "text/plain": [
       "Empty DataFrame\n",
       "Columns: [VALUE, CUSTOMER_ID, CREATED_DT, CITY, STATE, FAV_DELIVERY_DAY, REFILL, DOOR_DELIVERY, PAPERLESS, CUSTOMER_NAME, RETAINED]\n",
       "Index: []"
      ]
     },
     "metadata": {},
     "output_type": "display_data"
    }
   ],
   "source": [
    "display(session.table(\"SRC_CUSTOMER\").to_pandas().head())"
   ]
  },
  {
   "cell_type": "code",
   "execution_count": 4,
   "id": "c7f7e2fc",
   "metadata": {},
   "outputs": [
    {
     "data": {
      "text/html": [
       "<div>\n",
       "<style scoped>\n",
       "    .dataframe tbody tr th:only-of-type {\n",
       "        vertical-align: middle;\n",
       "    }\n",
       "\n",
       "    .dataframe tbody tr th {\n",
       "        vertical-align: top;\n",
       "    }\n",
       "\n",
       "    .dataframe thead th {\n",
       "        text-align: right;\n",
       "    }\n",
       "</style>\n",
       "<table border=\"1\" class=\"dataframe\">\n",
       "  <thead>\n",
       "    <tr style=\"text-align: right;\">\n",
       "      <th></th>\n",
       "      <th>VALUE</th>\n",
       "      <th>CUSTOMER_ID</th>\n",
       "      <th>ESENT</th>\n",
       "      <th>EOPENRATE</th>\n",
       "      <th>ECLICKRATE</th>\n",
       "    </tr>\n",
       "  </thead>\n",
       "  <tbody>\n",
       "  </tbody>\n",
       "</table>\n",
       "</div>"
      ],
      "text/plain": [
       "Empty DataFrame\n",
       "Columns: [VALUE, CUSTOMER_ID, ESENT, EOPENRATE, ECLICKRATE]\n",
       "Index: []"
      ]
     },
     "metadata": {},
     "output_type": "display_data"
    }
   ],
   "source": [
    "display(session.table(\"SRC_COMMUNICATION_HIST\").to_pandas().head())"
   ]
  },
  {
   "cell_type": "code",
   "execution_count": 5,
   "id": "f1903a87",
   "metadata": {},
   "outputs": [
    {
     "data": {
      "text/html": [
       "<div>\n",
       "<style scoped>\n",
       "    .dataframe tbody tr th:only-of-type {\n",
       "        vertical-align: middle;\n",
       "    }\n",
       "\n",
       "    .dataframe tbody tr th {\n",
       "        vertical-align: top;\n",
       "    }\n",
       "\n",
       "    .dataframe thead th {\n",
       "        text-align: right;\n",
       "    }\n",
       "</style>\n",
       "<table border=\"1\" class=\"dataframe\">\n",
       "  <thead>\n",
       "    <tr style=\"text-align: right;\">\n",
       "      <th></th>\n",
       "      <th>VALUE</th>\n",
       "      <th>CUSTOMER_ID</th>\n",
       "      <th>ORDER_DT</th>\n",
       "      <th>CITY</th>\n",
       "      <th>STATE</th>\n",
       "      <th>ORDER_AMOUNT</th>\n",
       "      <th>ORDER_ID</th>\n",
       "    </tr>\n",
       "  </thead>\n",
       "  <tbody>\n",
       "  </tbody>\n",
       "</table>\n",
       "</div>"
      ],
      "text/plain": [
       "Empty DataFrame\n",
       "Columns: [VALUE, CUSTOMER_ID, ORDER_DT, CITY, STATE, ORDER_AMOUNT, ORDER_ID]\n",
       "Index: []"
      ]
     },
     "metadata": {},
     "output_type": "display_data"
    }
   ],
   "source": [
    "display(session.table(\"SRC_ORDER\").to_pandas().head())"
   ]
  },
  {
   "cell_type": "code",
   "execution_count": 6,
   "id": "c5d4feb7",
   "metadata": {},
   "outputs": [],
   "source": [
    "session.add_packages('snowflake-snowpark-python')\n",
    "table_name = 'TRANSFORMED_CUSTOMER_CHURN'"
   ]
  },
  {
   "cell_type": "markdown",
   "id": "d7ac9d48",
   "metadata": {},
   "source": [
    "### 2. Let's apply transformations like joins and aggregations"
   ]
  },
  {
   "cell_type": "code",
   "execution_count": 7,
   "id": "7d7dc559",
   "metadata": {},
   "outputs": [],
   "source": [
    "def createTransformed(dfCust, dfOrd, dfCom):\n",
    "    \n",
    "    #Calculate first_order_date, last_order_date and avg_order amount for each customer\n",
    "    window = Window.partition_by(\"CUSTOMER_ID\")\n",
    "    df_lastorder = dfOrd.select(col(\"CUSTOMER_ID\"),max(\"ORDER_DT\").over(window).alias(\"LAST_ORDER_DT\")).distinct()\n",
    "    df_firstorder = dfOrd.select(col(\"CUSTOMER_ID\"),min(\"ORDER_DT\").over(window).alias(\"FIRST_ORDER_DT\")).distinct()\n",
    "    df_avgorder = dfOrd.select(col(\"CUSTOMER_ID\"),avg(\"ORDER_AMOUNT\").over(window).alias(\"AVG_ORDER\")).distinct()\n",
    "    \n",
    "    \n",
    "    df_1 = dfCust.join(dfCom, dfCust[\"CUSTOMER_ID\"] == dfCom[\"CUSTOMER_ID\"]) \\\n",
    "                   .join(df_lastorder, dfCust[\"CUSTOMER_ID\"] == df_lastorder[\"CUSTOMER_ID\"]) \\\n",
    "                   .join(df_firstorder, dfCust[\"CUSTOMER_ID\"] == df_firstorder[\"CUSTOMER_ID\"]) \\\n",
    "                   .join(df_avgorder, dfCust[\"CUSTOMER_ID\"] == df_avgorder[\"CUSTOMER_ID\"]) \\\n",
    "                   .drop(dfCom[\"CUSTOMER_ID\"],df_lastorder[\"CUSTOMER_ID\"], df_avgorder[\"CUSTOMER_ID\"], df_firstorder[\"CUSTOMER_ID\"]) \\\n",
    "                   .rename(dfCust[\"CUSTOMER_ID\"], \"CUSTOMER_ID\")\n",
    "    \n",
    "    #calculate DIFF_BETWEEN_LAST_FIRST_DAYS and DIFF_BETWEEN_FIRST_CREATED_DAYS\n",
    "    df_2 = df_1.with_columns([\"DIFF_BETWEEN_LAST_FIRST_DAYS\", \"DIFF_BETWEEN_FIRST_CREATED_DAYS\"], \n",
    "                   [F.datediff(\"DAY\", df_1[\"FIRST_ORDER_DT\"].try_cast(DateType()), df_1[\"LAST_ORDER_DT\"].try_cast(DateType())),\n",
    "                   F.datediff(\"DAY\", df_1[\"CREATED_DT\"].try_cast(DateType()), df_1[\"FIRST_ORDER_DT\"].try_cast(DateType()))\n",
    "                   ])\n",
    "    \n",
    "    return df_2.na.drop()"
   ]
  },
  {
   "cell_type": "code",
   "execution_count": 8,
   "id": "96becd8e",
   "metadata": {},
   "outputs": [],
   "source": [
    "def transformData(session1: Session) -> str:\n",
    "    \n",
    "    dfCust=session1.table(\"SRC_CUSTOMER\").select(col(\"CUSTOMER_ID\"), \n",
    "                       col(\"CREATED_DT\"), \n",
    "                       col(\"CITY\"), \n",
    "                       col(\"FAV_DELIVERY_DAY\"),\n",
    "                       col(\"REFILL\"),\n",
    "                       col(\"DOOR_DELIVERY\"),\n",
    "                       col(\"PAPERLESS\"),\n",
    "                       col(\"RETAINED\"))\n",
    "    \n",
    "    dfCom=session1.table(\"SRC_COMMUNICATION_HIST\").select(col(\"CUSTOMER_ID\"), \n",
    "                       col(\"ESENT\"), \n",
    "                       col(\"EOPENRATE\"), \n",
    "                       col(\"ECLICKRATE\"))\n",
    "    \n",
    "    dfOrd=session1.table(\"SRC_ORDER\").select(col(\"CUSTOMER_ID\"), \n",
    "                       col(\"ORDER_ID\"), \n",
    "                       col(\"ORDER_DT\"), \n",
    "                       col(\"CITY\"),\n",
    "                       col(\"ORDER_AMOUNT\"))\n",
    "    \n",
    "    df=createTransformed(dfCust, dfOrd, dfCom)\n",
    "    df.write.mode(\"overwrite\").save_as_table(table_name)\n",
    "    return 'SUCCESS'\n",
    "\n",
    "\n",
    "\n",
    "# Create an instance of StoredProcedure using the sproc() function\n",
    "\n",
    "data_transform_sp = sproc(transformData, replace=True)"
   ]
  },
  {
   "cell_type": "code",
   "execution_count": 9,
   "id": "d6ebb085",
   "metadata": {},
   "outputs": [
    {
     "data": {
      "text/plain": [
       "'SUCCESS'"
      ]
     },
     "execution_count": 9,
     "metadata": {},
     "output_type": "execute_result"
    }
   ],
   "source": [
    "data_transform_sp()"
   ]
  },
  {
   "cell_type": "markdown",
   "id": "cd1f5d36",
   "metadata": {},
   "source": [
    "![Original Data Frame](images/image2.png)"
   ]
  },
  {
   "cell_type": "code",
   "execution_count": 10,
   "id": "97872ce4",
   "metadata": {},
   "outputs": [
    {
     "data": {
      "text/html": [
       "<div>\n",
       "<style scoped>\n",
       "    .dataframe tbody tr th:only-of-type {\n",
       "        vertical-align: middle;\n",
       "    }\n",
       "\n",
       "    .dataframe tbody tr th {\n",
       "        vertical-align: top;\n",
       "    }\n",
       "\n",
       "    .dataframe thead th {\n",
       "        text-align: right;\n",
       "    }\n",
       "</style>\n",
       "<table border=\"1\" class=\"dataframe\">\n",
       "  <thead>\n",
       "    <tr style=\"text-align: right;\">\n",
       "      <th></th>\n",
       "      <th>CUSTOMER_ID</th>\n",
       "      <th>CREATED_DT</th>\n",
       "      <th>CITY</th>\n",
       "      <th>FAV_DELIVERY_DAY</th>\n",
       "      <th>REFILL</th>\n",
       "      <th>DOOR_DELIVERY</th>\n",
       "      <th>PAPERLESS</th>\n",
       "      <th>RETAINED</th>\n",
       "      <th>ESENT</th>\n",
       "      <th>EOPENRATE</th>\n",
       "      <th>ECLICKRATE</th>\n",
       "      <th>LAST_ORDER_DT</th>\n",
       "      <th>FIRST_ORDER_DT</th>\n",
       "      <th>AVG_ORDER</th>\n",
       "      <th>DIFF_BETWEEN_LAST_FIRST_DAYS</th>\n",
       "      <th>DIFF_BETWEEN_FIRST_CREATED_DAYS</th>\n",
       "    </tr>\n",
       "  </thead>\n",
       "  <tbody>\n",
       "  </tbody>\n",
       "</table>\n",
       "</div>"
      ],
      "text/plain": [
       "Empty DataFrame\n",
       "Columns: [CUSTOMER_ID, CREATED_DT, CITY, FAV_DELIVERY_DAY, REFILL, DOOR_DELIVERY, PAPERLESS, RETAINED, ESENT, EOPENRATE, ECLICKRATE, LAST_ORDER_DT, FIRST_ORDER_DT, AVG_ORDER, DIFF_BETWEEN_LAST_FIRST_DAYS, DIFF_BETWEEN_FIRST_CREATED_DAYS]\n",
       "Index: []"
      ]
     },
     "metadata": {},
     "output_type": "display_data"
    }
   ],
   "source": [
    "display(session.table(table_name).to_pandas().head())"
   ]
  },
  {
   "cell_type": "code",
   "execution_count": null,
   "id": "71cf0a47",
   "metadata": {},
   "outputs": [],
   "source": []
  }
 ],
 "metadata": {
  "kernelspec": {
   "display_name": "Python 3.8.13",
   "language": "python",
   "name": "python3"
  },
  "language_info": {
   "codemirror_mode": {
    "name": "ipython",
    "version": 3
   },
   "file_extension": ".py",
   "mimetype": "text/x-python",
   "name": "python",
   "nbconvert_exporter": "python",
   "pygments_lexer": "ipython3",
   "version": "3.8.13"
  },
  "vscode": {
   "interpreter": {
    "hash": "4f01f2aed5982e444a4a24ac09b2c3e1a76b8203c372080d293ab10a26849f59"
   }
  }
 },
 "nbformat": 4,
 "nbformat_minor": 5
}
