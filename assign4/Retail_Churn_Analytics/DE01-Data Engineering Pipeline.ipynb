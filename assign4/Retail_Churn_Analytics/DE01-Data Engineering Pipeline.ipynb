{
 "cells": [
  {
   "cell_type": "markdown",
   "id": "cd94d908",
   "metadata": {},
   "source": [
    "## Customer, Order, Communications History Data Sets - Data Engineering"
   ]
  },
  {
   "cell_type": "markdown",
   "id": "f88b3d60",
   "metadata": {},
   "source": [
    "We will be working with three tables that contains Customer data, Communications data and Order data for a Retail Store. These dataset can be used to understand the consumer behaviour to predict churn, in this example.\n",
    "\n",
    "These datasets were generated for this demo using a Kaggle dataset below.\n",
    "\n",
    "Reference: https://www.kaggle.com/uttamp/store-data"
   ]
  },
  {
   "cell_type": "code",
   "execution_count": 18,
   "id": "a17fa74f",
   "metadata": {},
   "outputs": [],
   "source": [
    "from snowflake.snowpark import Session, Window\n",
    "from snowflake.snowpark import functions as F\n",
    "from snowflake.snowpark.types import *\n",
    "import preprocessing as pp\n",
    "from snowflake.snowpark.functions import sproc, col, min, max, avg\n",
    "import snowflake.snowpark\n",
    "import json"
   ]
  },
  {
   "cell_type": "markdown",
   "id": "d1029142",
   "metadata": {},
   "source": [
    "### 1. Create a Snowpark Session"
   ]
  },
  {
   "cell_type": "markdown",
   "id": "640a92a5",
   "metadata": {},
   "source": [
    "First, we will be setting our parameters for stage name and source file name. Then we will initialize a Snowpark session reading the configuration parameters from creds.json."
   ]
  },
  {
   "cell_type": "code",
   "execution_count": 19,
   "id": "7c6517e0",
   "metadata": {},
   "outputs": [
    {
     "name": "stdout",
     "output_type": "stream",
     "text": [
      "[Row(CURRENT_WAREHOUSE()='BI_MEDIUM_WH', CURRENT_DATABASE()='SUMMIT_DB', CURRENT_SCHEMA()='CHURN')]\n"
     ]
    }
   ],
   "source": [
    "with open('creds.json') as f:\n",
    "        data = json.load(f)\n",
    "        connection_parameters = {\n",
    "          'account': data['account'],\n",
    "          'user': data['user'],\n",
    "          'password': data['password'], #getpass.getpass(),\n",
    "          'schema': data['schema'],\n",
    "          'database': data['database'],\n",
    "          'warehouse': data['warehouse']}\n",
    "session1 = Session.builder.configs(connection_parameters).create()\n",
    "print(session1.sql('select current_warehouse(), current_database(), current_schema()').collect())"
   ]
  },
  {
   "cell_type": "markdown",
   "id": "a636841d",
   "metadata": {},
   "source": [
    "# Let's look the 3 tables we will be working with:"
   ]
  },
  {
   "cell_type": "markdown",
   "id": "aa8b14bb",
   "metadata": {},
   "source": [
    "### Customer Table"
   ]
  },
  {
   "cell_type": "markdown",
   "id": "3bff0c3f",
   "metadata": {},
   "source": [
    "![Original Data Frame](images/customer.png)"
   ]
  },
  {
   "cell_type": "markdown",
   "id": "2fdedf28",
   "metadata": {},
   "source": [
    "### Communication History Table"
   ]
  },
  {
   "cell_type": "markdown",
   "id": "88362e8d",
   "metadata": {},
   "source": [
    "![Original Data Frame](images/comm.png)"
   ]
  },
  {
   "cell_type": "markdown",
   "id": "022cf876",
   "metadata": {},
   "source": [
    "### Order Table"
   ]
  },
  {
   "cell_type": "markdown",
   "id": "ea651b1e",
   "metadata": {},
   "source": [
    "![Original Data Frame](images/order.png)"
   ]
  },
  {
   "cell_type": "code",
   "execution_count": 20,
   "id": "5636d498",
   "metadata": {},
   "outputs": [
    {
     "data": {
      "text/html": [
       "<div>\n",
       "<style scoped>\n",
       "    .dataframe tbody tr th:only-of-type {\n",
       "        vertical-align: middle;\n",
       "    }\n",
       "\n",
       "    .dataframe tbody tr th {\n",
       "        vertical-align: top;\n",
       "    }\n",
       "\n",
       "    .dataframe thead th {\n",
       "        text-align: right;\n",
       "    }\n",
       "</style>\n",
       "<table border=\"1\" class=\"dataframe\">\n",
       "  <thead>\n",
       "    <tr style=\"text-align: right;\">\n",
       "      <th></th>\n",
       "      <th>VALUE</th>\n",
       "      <th>CUSTOMER_ID</th>\n",
       "      <th>CREATED_DT</th>\n",
       "      <th>CITY</th>\n",
       "      <th>STATE</th>\n",
       "      <th>FAV_DELIVERY_DAY</th>\n",
       "      <th>REFILL</th>\n",
       "      <th>DOOR_DELIVERY</th>\n",
       "      <th>PAPERLESS</th>\n",
       "      <th>CUSTOMER_NAME</th>\n",
       "      <th>RETAINED</th>\n",
       "    </tr>\n",
       "  </thead>\n",
       "  <tbody>\n",
       "  </tbody>\n",
       "</table>\n",
       "</div>"
      ],
      "text/plain": [
       "Empty DataFrame\n",
       "Columns: [VALUE, CUSTOMER_ID, CREATED_DT, CITY, STATE, FAV_DELIVERY_DAY, REFILL, DOOR_DELIVERY, PAPERLESS, CUSTOMER_NAME, RETAINED]\n",
       "Index: []"
      ]
     },
     "metadata": {},
     "output_type": "display_data"
    }
   ],
   "source": [
    "display(session1.table(\"SRC_CUSTOMER\").to_pandas().head())"
   ]
  },
  {
   "cell_type": "code",
   "execution_count": 21,
   "id": "c7f7e2fc",
   "metadata": {},
   "outputs": [
    {
     "data": {
      "text/html": [
       "<div>\n",
       "<style scoped>\n",
       "    .dataframe tbody tr th:only-of-type {\n",
       "        vertical-align: middle;\n",
       "    }\n",
       "\n",
       "    .dataframe tbody tr th {\n",
       "        vertical-align: top;\n",
       "    }\n",
       "\n",
       "    .dataframe thead th {\n",
       "        text-align: right;\n",
       "    }\n",
       "</style>\n",
       "<table border=\"1\" class=\"dataframe\">\n",
       "  <thead>\n",
       "    <tr style=\"text-align: right;\">\n",
       "      <th></th>\n",
       "      <th>VALUE</th>\n",
       "      <th>CUSTOMER_ID</th>\n",
       "      <th>ESENT</th>\n",
       "      <th>EOPENRATE</th>\n",
       "      <th>ECLICKRATE</th>\n",
       "    </tr>\n",
       "  </thead>\n",
       "  <tbody>\n",
       "  </tbody>\n",
       "</table>\n",
       "</div>"
      ],
      "text/plain": [
       "Empty DataFrame\n",
       "Columns: [VALUE, CUSTOMER_ID, ESENT, EOPENRATE, ECLICKRATE]\n",
       "Index: []"
      ]
     },
     "metadata": {},
     "output_type": "display_data"
    }
   ],
   "source": [
    "display(session1.table(\"SRC_COMMUNICATION_HIST\").to_pandas().head())"
   ]
  },
  {
   "cell_type": "code",
   "execution_count": 22,
   "id": "f1903a87",
   "metadata": {},
   "outputs": [
    {
     "data": {
      "text/html": [
       "<div>\n",
       "<style scoped>\n",
       "    .dataframe tbody tr th:only-of-type {\n",
       "        vertical-align: middle;\n",
       "    }\n",
       "\n",
       "    .dataframe tbody tr th {\n",
       "        vertical-align: top;\n",
       "    }\n",
       "\n",
       "    .dataframe thead th {\n",
       "        text-align: right;\n",
       "    }\n",
       "</style>\n",
       "<table border=\"1\" class=\"dataframe\">\n",
       "  <thead>\n",
       "    <tr style=\"text-align: right;\">\n",
       "      <th></th>\n",
       "      <th>VALUE</th>\n",
       "      <th>CUSTOMER_ID</th>\n",
       "      <th>ORDER_DT</th>\n",
       "      <th>CITY</th>\n",
       "      <th>STATE</th>\n",
       "      <th>ORDER_AMOUNT</th>\n",
       "      <th>ORDER_ID</th>\n",
       "    </tr>\n",
       "  </thead>\n",
       "  <tbody>\n",
       "  </tbody>\n",
       "</table>\n",
       "</div>"
      ],
      "text/plain": [
       "Empty DataFrame\n",
       "Columns: [VALUE, CUSTOMER_ID, ORDER_DT, CITY, STATE, ORDER_AMOUNT, ORDER_ID]\n",
       "Index: []"
      ]
     },
     "metadata": {},
     "output_type": "display_data"
    }
   ],
   "source": [
    "display(session1.table(\"SRC_ORDER\").to_pandas().head())"
   ]
  },
  {
   "cell_type": "code",
   "execution_count": 23,
   "id": "c5d4feb7",
   "metadata": {},
   "outputs": [],
   "source": [
    "session1.add_packages('snowflake-snowpark-python')\n",
    "table_name = 'TRANSFORMED_CUSTOMER_CHURN'"
   ]
  },
  {
   "cell_type": "markdown",
   "id": "d7ac9d48",
   "metadata": {},
   "source": [
    "### 2. Let's apply transformations like joins and aggregations"
   ]
  },
  {
   "cell_type": "code",
   "execution_count": 24,
   "id": "7d7dc559",
   "metadata": {},
   "outputs": [],
   "source": [
    "def createTransformed(dfCust, dfOrd, dfCom):\n",
    "    \n",
    "    #Calculate first_order_date, last_order_date and avg_order amount for each customer\n",
    "    window = Window.partition_by(\"CUSTOMER_ID\")\n",
    "    df_lastorder = dfOrd.select(col(\"CUSTOMER_ID\"),max(\"ORDER_DT\").over(window).alias(\"LAST_ORDER_DT\")).distinct()\n",
    "    df_firstorder = dfOrd.select(col(\"CUSTOMER_ID\"),min(\"ORDER_DT\").over(window).alias(\"FIRST_ORDER_DT\")).distinct()\n",
    "    df_avgorder = dfOrd.select(col(\"CUSTOMER_ID\"),avg(\"ORDER_AMOUNT\").over(window).alias(\"AVG_ORDER\")).distinct()\n",
    "    \n",
    "    \n",
    "    df_1 = dfCust.join(dfCom, dfCust[\"CUSTOMER_ID\"] == dfCom[\"CUSTOMER_ID\"]) \\\n",
    "                   .join(df_lastorder, dfCust[\"CUSTOMER_ID\"] == df_lastorder[\"CUSTOMER_ID\"]) \\\n",
    "                   .join(df_firstorder, dfCust[\"CUSTOMER_ID\"] == df_firstorder[\"CUSTOMER_ID\"]) \\\n",
    "                   .join(df_avgorder, dfCust[\"CUSTOMER_ID\"] == df_avgorder[\"CUSTOMER_ID\"]) \\\n",
    "                   .drop(dfCom[\"CUSTOMER_ID\"],df_lastorder[\"CUSTOMER_ID\"], df_avgorder[\"CUSTOMER_ID\"], df_firstorder[\"CUSTOMER_ID\"]) \\\n",
    "                   .rename(dfCust[\"CUSTOMER_ID\"], \"CUSTOMER_ID\")\n",
    "    \n",
    "    #calculate DIFF_BETWEEN_LAST_FIRST_DAYS and DIFF_BETWEEN_FIRST_CREATED_DAYS\n",
    "    df_2 = df_1.with_columns([\"DIFF_BETWEEN_LAST_FIRST_DAYS\", \"DIFF_BETWEEN_FIRST_CREATED_DAYS\"], \n",
    "                   [F.datediff(\"DAY\", df_1[\"FIRST_ORDER_DT\"].try_cast(DateType()), df_1[\"LAST_ORDER_DT\"].try_cast(DateType())),\n",
    "                   F.datediff(\"DAY\", df_1[\"CREATED_DT\"].try_cast(DateType()), df_1[\"FIRST_ORDER_DT\"].try_cast(DateType()))\n",
    "                   ])\n",
    "    \n",
    "    return df_2.na.drop()"
   ]
  },
  {
   "cell_type": "code",
   "execution_count": 25,
   "id": "96becd8e",
   "metadata": {},
   "outputs": [
    {
     "ename": "SnowparkSessionException",
     "evalue": "(1409): More than one active session is detected. When you call function 'udf' or use decorator '@udf', you must specify the 'session' parameter if you created multiple sessions.Alternatively, you can use 'session.udf.register' to register UDFs",
     "output_type": "error",
     "traceback": [
      "\u001b[0;31m---------------------------------------------------------------------------\u001b[0m",
      "\u001b[0;31mSnowparkSessionException\u001b[0m                  Traceback (most recent call last)",
      "Cell \u001b[0;32mIn[25], line 28\u001b[0m\n\u001b[1;32m     25\u001b[0m     \u001b[39mreturn\u001b[39;00m \u001b[39m'\u001b[39m\u001b[39mSUCCESS\u001b[39m\u001b[39m'\u001b[39m\n\u001b[1;32m     27\u001b[0m \u001b[39m# Create an instance of StoredProcedure using the sproc() function\u001b[39;00m\n\u001b[0;32m---> 28\u001b[0m data_transform_sp \u001b[39m=\u001b[39m sproc(transformData, replace\u001b[39m=\u001b[39;49m\u001b[39mTrue\u001b[39;49;00m)\n",
      "File \u001b[0;32m/usr/local/Caskroom/miniforge/base/envs/py38_env/lib/python3.8/site-packages/snowflake/snowpark/functions.py:3606\u001b[0m, in \u001b[0;36msproc\u001b[0;34m(func, return_type, input_types, name, is_permanent, stage_location, imports, packages, replace, session, parallel, statement_params, execute_as, strict)\u001b[0m\n\u001b[1;32m   3499\u001b[0m \u001b[39mdef\u001b[39;00m \u001b[39msproc\u001b[39m(\n\u001b[1;32m   3500\u001b[0m     func: Optional[Callable] \u001b[39m=\u001b[39m \u001b[39mNone\u001b[39;00m,\n\u001b[1;32m   3501\u001b[0m     \u001b[39m*\u001b[39m,\n\u001b[0;32m   (...)\u001b[0m\n\u001b[1;32m   3514\u001b[0m     strict: \u001b[39mbool\u001b[39m \u001b[39m=\u001b[39m \u001b[39mFalse\u001b[39;00m,\n\u001b[1;32m   3515\u001b[0m ) \u001b[39m-\u001b[39m\u001b[39m>\u001b[39m Union[StoredProcedure, functools\u001b[39m.\u001b[39mpartial]:\n\u001b[1;32m   3516\u001b[0m     \u001b[39m\"\"\"Registers a Python function as a Snowflake Python stored procedure and returns the stored procedure.\u001b[39;00m\n\u001b[1;32m   3517\u001b[0m \n\u001b[1;32m   3518\u001b[0m \u001b[39m    It can be used as either a function call or a decorator. In most cases you work with a single session.\u001b[39;00m\n\u001b[0;32m   (...)\u001b[0m\n\u001b[1;32m   3604\u001b[0m \u001b[39m        :class:`~snowflake.snowpark.stored_procedure.StoredProcedureRegistration`\u001b[39;00m\n\u001b[1;32m   3605\u001b[0m \u001b[39m    \"\"\"\u001b[39;00m\n\u001b[0;32m-> 3606\u001b[0m     session \u001b[39m=\u001b[39m session \u001b[39mor\u001b[39;00m snowflake\u001b[39m.\u001b[39;49msnowpark\u001b[39m.\u001b[39;49msession\u001b[39m.\u001b[39;49m_get_active_session()\n\u001b[1;32m   3607\u001b[0m     \u001b[39mif\u001b[39;00m func \u001b[39mis\u001b[39;00m \u001b[39mNone\u001b[39;00m:\n\u001b[1;32m   3608\u001b[0m         \u001b[39mreturn\u001b[39;00m functools\u001b[39m.\u001b[39mpartial(\n\u001b[1;32m   3609\u001b[0m             session\u001b[39m.\u001b[39msproc\u001b[39m.\u001b[39mregister,\n\u001b[1;32m   3610\u001b[0m             return_type\u001b[39m=\u001b[39mreturn_type,\n\u001b[0;32m   (...)\u001b[0m\n\u001b[1;32m   3621\u001b[0m             strict\u001b[39m=\u001b[39mstrict,\n\u001b[1;32m   3622\u001b[0m         )\n",
      "File \u001b[0;32m/usr/local/Caskroom/miniforge/base/envs/py38_env/lib/python3.8/site-packages/snowflake/snowpark/session.py:140\u001b[0m, in \u001b[0;36m_get_active_session\u001b[0;34m()\u001b[0m\n\u001b[1;32m    138\u001b[0m     \u001b[39mreturn\u001b[39;00m \u001b[39mnext\u001b[39m(\u001b[39miter\u001b[39m(_active_sessions))\n\u001b[1;32m    139\u001b[0m \u001b[39melif\u001b[39;00m \u001b[39mlen\u001b[39m(_active_sessions) \u001b[39m>\u001b[39m \u001b[39m1\u001b[39m:\n\u001b[0;32m--> 140\u001b[0m     \u001b[39mraise\u001b[39;00m SnowparkClientExceptionMessages\u001b[39m.\u001b[39mMORE_THAN_ONE_ACTIVE_SESSIONS()\n\u001b[1;32m    141\u001b[0m \u001b[39melse\u001b[39;00m:\n\u001b[1;32m    142\u001b[0m     \u001b[39mraise\u001b[39;00m SnowparkClientExceptionMessages\u001b[39m.\u001b[39mSERVER_NO_DEFAULT_SESSION()\n",
      "\u001b[0;31mSnowparkSessionException\u001b[0m: (1409): More than one active session is detected. When you call function 'udf' or use decorator '@udf', you must specify the 'session' parameter if you created multiple sessions.Alternatively, you can use 'session.udf.register' to register UDFs"
     ]
    }
   ],
   "source": [
    "def transformData(session1: Session) -> str:\n",
    "    \n",
    "    dfCust=session1.table(\"SRC_CUSTOMER\").select(col(\"CUSTOMER_ID\"), \n",
    "                       col(\"CREATED_DT\"), \n",
    "                       col(\"CITY\"), \n",
    "                       col(\"FAV_DELIVERY_DAY\"),\n",
    "                       col(\"REFILL\"),\n",
    "                       col(\"DOOR_DELIVERY\"),\n",
    "                       col(\"PAPERLESS\"),\n",
    "                       col(\"RETAINED\"))\n",
    "    \n",
    "    dfCom=session1.table(\"SRC_COMMUNICATION_HIST\").select(col(\"CUSTOMER_ID\"), \n",
    "                       col(\"ESENT\"), \n",
    "                       col(\"EOPENRATE\"), \n",
    "                       col(\"ECLICKRATE\"))\n",
    "    \n",
    "    dfOrd=session1.table(\"SRC_ORDER\").select(col(\"CUSTOMER_ID\"), \n",
    "                       col(\"ORDER_ID\"), \n",
    "                       col(\"ORDER_DT\"), \n",
    "                       col(\"CITY\"),\n",
    "                       col(\"ORDER_AMOUNT\"))\n",
    "    \n",
    "    df=createTransformed(dfCust, dfOrd, dfCom)\n",
    "    df.write.mode(\"overwrite\").save_as_table(table_name)\n",
    "    return 'SUCCESS'\n",
    "\n",
    "# Create an instance of StoredProcedure using the sproc() function\n",
    "data_transform_sp = sproc(transformData, replace=True)"
   ]
  },
  {
   "cell_type": "code",
   "execution_count": null,
   "id": "d6ebb085",
   "metadata": {},
   "outputs": [
    {
     "data": {
      "text/plain": [
       "'SUCCESS'"
      ]
     },
     "execution_count": 6,
     "metadata": {},
     "output_type": "execute_result"
    }
   ],
   "source": [
    "data_transform_sp()"
   ]
  },
  {
   "cell_type": "markdown",
   "id": "cd1f5d36",
   "metadata": {},
   "source": [
    "![Original Data Frame](images/image2.png)"
   ]
  },
  {
   "cell_type": "code",
   "execution_count": null,
   "id": "97872ce4",
   "metadata": {},
   "outputs": [
    {
     "data": {
      "text/html": [
       "<div>\n",
       "<style scoped>\n",
       "    .dataframe tbody tr th:only-of-type {\n",
       "        vertical-align: middle;\n",
       "    }\n",
       "\n",
       "    .dataframe tbody tr th {\n",
       "        vertical-align: top;\n",
       "    }\n",
       "\n",
       "    .dataframe thead th {\n",
       "        text-align: right;\n",
       "    }\n",
       "</style>\n",
       "<table border=\"1\" class=\"dataframe\">\n",
       "  <thead>\n",
       "    <tr style=\"text-align: right;\">\n",
       "      <th></th>\n",
       "      <th>CUSTOMER_ID</th>\n",
       "      <th>CREATED_DT</th>\n",
       "      <th>CITY</th>\n",
       "      <th>FAV_DELIVERY_DAY</th>\n",
       "      <th>REFILL</th>\n",
       "      <th>DOOR_DELIVERY</th>\n",
       "      <th>PAPERLESS</th>\n",
       "      <th>RETAINED</th>\n",
       "      <th>ESENT</th>\n",
       "      <th>EOPENRATE</th>\n",
       "      <th>ECLICKRATE</th>\n",
       "      <th>LAST_ORDER_DT</th>\n",
       "      <th>FIRST_ORDER_DT</th>\n",
       "      <th>AVG_ORDER</th>\n",
       "      <th>DIFF_BETWEEN_LAST_FIRST_DAYS</th>\n",
       "      <th>DIFF_BETWEEN_FIRST_CREATED_DAYS</th>\n",
       "    </tr>\n",
       "  </thead>\n",
       "  <tbody>\n",
       "    <tr>\n",
       "      <th>0</th>\n",
       "      <td>6H6T6N</td>\n",
       "      <td>2012-09-28</td>\n",
       "      <td>Dallas</td>\n",
       "      <td>Monday</td>\n",
       "      <td>0</td>\n",
       "      <td>0</td>\n",
       "      <td>0</td>\n",
       "      <td>0</td>\n",
       "      <td>29</td>\n",
       "      <td>100.000000</td>\n",
       "      <td>3.448276</td>\n",
       "      <td>8/11/2013</td>\n",
       "      <td>8/11/2013</td>\n",
       "      <td>5.32</td>\n",
       "      <td>0</td>\n",
       "      <td>317</td>\n",
       "    </tr>\n",
       "    <tr>\n",
       "      <th>1</th>\n",
       "      <td>APCENR</td>\n",
       "      <td>2010-12-19</td>\n",
       "      <td>Dallas</td>\n",
       "      <td>Friday</td>\n",
       "      <td>1</td>\n",
       "      <td>1</td>\n",
       "      <td>1</td>\n",
       "      <td>1</td>\n",
       "      <td>95</td>\n",
       "      <td>92.631579</td>\n",
       "      <td>10.526316</td>\n",
       "      <td>4/1/2011</td>\n",
       "      <td>1/19/2014</td>\n",
       "      <td>83.69</td>\n",
       "      <td>-1024</td>\n",
       "      <td>1127</td>\n",
       "    </tr>\n",
       "    <tr>\n",
       "      <th>2</th>\n",
       "      <td>7UP6MS</td>\n",
       "      <td>2010-10-03</td>\n",
       "      <td>Dallas</td>\n",
       "      <td>Wednesday</td>\n",
       "      <td>0</td>\n",
       "      <td>0</td>\n",
       "      <td>0</td>\n",
       "      <td>0</td>\n",
       "      <td>0</td>\n",
       "      <td>0.000000</td>\n",
       "      <td>0.000000</td>\n",
       "      <td>7/6/2011</td>\n",
       "      <td>12/1/2010</td>\n",
       "      <td>33.58</td>\n",
       "      <td>217</td>\n",
       "      <td>59</td>\n",
       "    </tr>\n",
       "    <tr>\n",
       "      <th>3</th>\n",
       "      <td>7ZEW8G</td>\n",
       "      <td>2010-10-22</td>\n",
       "      <td>Houston</td>\n",
       "      <td>Thursday</td>\n",
       "      <td>0</td>\n",
       "      <td>0</td>\n",
       "      <td>0</td>\n",
       "      <td>0</td>\n",
       "      <td>0</td>\n",
       "      <td>0.000000</td>\n",
       "      <td>0.000000</td>\n",
       "      <td>3/28/2011</td>\n",
       "      <td>3/28/2011</td>\n",
       "      <td>45.76</td>\n",
       "      <td>0</td>\n",
       "      <td>157</td>\n",
       "    </tr>\n",
       "    <tr>\n",
       "      <th>4</th>\n",
       "      <td>8V726M</td>\n",
       "      <td>2010-11-27</td>\n",
       "      <td>Houston</td>\n",
       "      <td>Monday</td>\n",
       "      <td>0</td>\n",
       "      <td>0</td>\n",
       "      <td>0</td>\n",
       "      <td>1</td>\n",
       "      <td>30</td>\n",
       "      <td>90.000000</td>\n",
       "      <td>13.333333</td>\n",
       "      <td>11/29/2010</td>\n",
       "      <td>1/28/2013</td>\n",
       "      <td>111.91</td>\n",
       "      <td>-791</td>\n",
       "      <td>793</td>\n",
       "    </tr>\n",
       "  </tbody>\n",
       "</table>\n",
       "</div>"
      ],
      "text/plain": [
       "  CUSTOMER_ID  CREATED_DT     CITY FAV_DELIVERY_DAY  REFILL  DOOR_DELIVERY  \\\n",
       "0      6H6T6N  2012-09-28   Dallas           Monday       0              0   \n",
       "1      APCENR  2010-12-19   Dallas           Friday       1              1   \n",
       "2      7UP6MS  2010-10-03   Dallas        Wednesday       0              0   \n",
       "3      7ZEW8G  2010-10-22  Houston         Thursday       0              0   \n",
       "4      8V726M  2010-11-27  Houston           Monday       0              0   \n",
       "\n",
       "   PAPERLESS  RETAINED  ESENT   EOPENRATE  ECLICKRATE LAST_ORDER_DT  \\\n",
       "0          0         0     29  100.000000    3.448276     8/11/2013   \n",
       "1          1         1     95   92.631579   10.526316      4/1/2011   \n",
       "2          0         0      0    0.000000    0.000000      7/6/2011   \n",
       "3          0         0      0    0.000000    0.000000     3/28/2011   \n",
       "4          0         1     30   90.000000   13.333333    11/29/2010   \n",
       "\n",
       "  FIRST_ORDER_DT  AVG_ORDER  DIFF_BETWEEN_LAST_FIRST_DAYS  \\\n",
       "0      8/11/2013       5.32                             0   \n",
       "1      1/19/2014      83.69                         -1024   \n",
       "2      12/1/2010      33.58                           217   \n",
       "3      3/28/2011      45.76                             0   \n",
       "4      1/28/2013     111.91                          -791   \n",
       "\n",
       "   DIFF_BETWEEN_FIRST_CREATED_DAYS  \n",
       "0                              317  \n",
       "1                             1127  \n",
       "2                               59  \n",
       "3                              157  \n",
       "4                              793  "
      ]
     },
     "metadata": {},
     "output_type": "display_data"
    }
   ],
   "source": [
    "display(session.table(table_name).to_pandas().head())"
   ]
  },
  {
   "cell_type": "code",
   "execution_count": null,
   "id": "71cf0a47",
   "metadata": {},
   "outputs": [],
   "source": []
  }
 ],
 "metadata": {
  "kernelspec": {
   "display_name": "Python 3.8.13",
   "language": "python",
   "name": "python3"
  },
  "language_info": {
   "codemirror_mode": {
    "name": "ipython",
    "version": 3
   },
   "file_extension": ".py",
   "mimetype": "text/x-python",
   "name": "python",
   "nbconvert_exporter": "python",
   "pygments_lexer": "ipython3",
   "version": "3.8.13"
  },
  "vscode": {
   "interpreter": {
    "hash": "4f01f2aed5982e444a4a24ac09b2c3e1a76b8203c372080d293ab10a26849f59"
   }
  }
 },
 "nbformat": 4,
 "nbformat_minor": 5
}
